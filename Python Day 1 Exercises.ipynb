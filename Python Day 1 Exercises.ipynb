{
 "cells": [
  {
   "cell_type": "markdown",
   "metadata": {},
   "source": [
    "1. Print cookies and milk are a great dessert."
   ]
  },
  {
   "cell_type": "code",
   "execution_count": 1,
   "metadata": {},
   "outputs": [
    {
     "name": "stdout",
     "output_type": "stream",
     "text": [
      "cookies and milk are a great dessert\n"
     ]
    }
   ],
   "source": [
    "print(\"cookies and milk are a great dessert\")"
   ]
  },
  {
   "cell_type": "markdown",
   "metadata": {},
   "source": [
    "2. Print out your favorite color and above the code comment out what you are doing."
   ]
  },
  {
   "cell_type": "code",
   "execution_count": 2,
   "metadata": {},
   "outputs": [
    {
     "name": "stdout",
     "output_type": "stream",
     "text": [
      "my favorite color is purple\n"
     ]
    }
   ],
   "source": [
    "# I am printing out my favorite color, purple.\n",
    "print(\"my favorite color is purple\")"
   ]
  },
  {
   "cell_type": "markdown",
   "metadata": {},
   "source": [
    "3. Make an in-line comment."
   ]
  },
  {
   "cell_type": "code",
   "execution_count": 23,
   "metadata": {},
   "outputs": [
    {
     "name": "stdout",
     "output_type": "stream",
     "text": [
      "hello\n"
     ]
    }
   ],
   "source": [
    "print(\"hello\") #this is a comment"
   ]
  },
  {
   "cell_type": "markdown",
   "metadata": {},
   "source": [
    "4. Make a block comment for yourself."
   ]
  },
  {
   "cell_type": "code",
   "execution_count": 25,
   "metadata": {},
   "outputs": [
    {
     "name": "stdout",
     "output_type": "stream",
     "text": [
      "hi\n"
     ]
    }
   ],
   "source": [
    "\"\"\"\n",
    "hello\n",
    "\"\"\"\n",
    "print(\"hi\")"
   ]
  },
  {
   "cell_type": "markdown",
   "metadata": {},
   "source": [
    "5. Print what 6 to the 7th power is."
   ]
  },
  {
   "cell_type": "code",
   "execution_count": 7,
   "metadata": {},
   "outputs": [
    {
     "name": "stdout",
     "output_type": "stream",
     "text": [
      "279936\n"
     ]
    }
   ],
   "source": [
    "answer = 6**7\n",
    "print(f\"{answer}\")"
   ]
  },
  {
   "cell_type": "markdown",
   "metadata": {},
   "source": [
    "6. Print the remainder of 100 divided by 11. "
   ]
  },
  {
   "cell_type": "code",
   "execution_count": 8,
   "metadata": {},
   "outputs": [
    {
     "name": "stdout",
     "output_type": "stream",
     "text": [
      "1\n"
     ]
    }
   ],
   "source": [
    "answer = 100 % 11\n",
    "print(f\"{answer}\")"
   ]
  },
  {
   "cell_type": "markdown",
   "metadata": {},
   "source": [
    "7. Print out if 25 multiplied by 54 is bigger than 33 multipled by 33"
   ]
  },
  {
   "cell_type": "code",
   "execution_count": 33,
   "metadata": {},
   "outputs": [
    {
     "name": "stdout",
     "output_type": "stream",
     "text": [
      "True\n"
     ]
    }
   ],
   "source": [
    "print(25*54 > 33*33)"
   ]
  },
  {
   "cell_type": "markdown",
   "metadata": {},
   "source": [
    "8. Print out 100 divided by 5"
   ]
  },
  {
   "cell_type": "code",
   "execution_count": 12,
   "metadata": {},
   "outputs": [
    {
     "name": "stdout",
     "output_type": "stream",
     "text": [
      "20.0\n"
     ]
    }
   ],
   "source": [
    "answer = 100 / 5\n",
    "print(f\"{answer}\")"
   ]
  },
  {
   "cell_type": "markdown",
   "metadata": {},
   "source": [
    "9. How do I figure out what is my data type I'm working with?"
   ]
  },
  {
   "cell_type": "code",
   "execution_count": 34,
   "metadata": {},
   "outputs": [
    {
     "name": "stdout",
     "output_type": "stream",
     "text": [
      "<class 'int'>\n"
     ]
    }
   ],
   "source": [
    "# use the type function\n",
    "print(type(4*4))"
   ]
  },
  {
   "cell_type": "markdown",
   "metadata": {},
   "source": [
    "10. Create a variable named foo that stores a string, Instructor."
   ]
  },
  {
   "cell_type": "code",
   "execution_count": 28,
   "metadata": {},
   "outputs": [],
   "source": [
    "foo = \"instructor\""
   ]
  },
  {
   "cell_type": "markdown",
   "metadata": {},
   "source": [
    "11. Print the variable you created before out below "
   ]
  },
  {
   "cell_type": "code",
   "execution_count": 26,
   "metadata": {},
   "outputs": [
    {
     "name": "stdout",
     "output_type": "stream",
     "text": [
      "instructor\n"
     ]
    }
   ],
   "source": [
    "foo = \"instructor\"\n",
    "print(foo)"
   ]
  },
  {
   "cell_type": "markdown",
   "metadata": {},
   "source": [
    "12. Create a variable called height and store your height value there.\n",
    "Print a sentence describing your height and use the variable in the sentence as well.\n",
    "Use a comma sentence."
   ]
  },
  {
   "cell_type": "code",
   "execution_count": 22,
   "metadata": {},
   "outputs": [
    {
     "name": "stdout",
     "output_type": "stream",
     "text": [
      "my height is 5'4, which is short\n"
     ]
    }
   ],
   "source": [
    "height = \"5'4\"\n",
    "print(f\"my height is {height}, which is short\")"
   ]
  },
  {
   "cell_type": "markdown",
   "metadata": {},
   "source": [
    "13. Use the last code, but now make it a printed formatted string. "
   ]
  },
  {
   "cell_type": "code",
   "execution_count": 35,
   "metadata": {},
   "outputs": [
    {
     "name": "stdout",
     "output_type": "stream",
     "text": [
      "my height is 5'4, which is short\n"
     ]
    }
   ],
   "source": [
    "height = \"5'4\"\n",
    "print(f\"my height is {height}, which is short\")"
   ]
  },
  {
   "cell_type": "markdown",
   "metadata": {},
   "source": [
    "14. Round 4.5667 to the nearest hundreth."
   ]
  },
  {
   "cell_type": "code",
   "execution_count": 30,
   "metadata": {},
   "outputs": [
    {
     "data": {
      "text/plain": [
       "4.57"
      ]
     },
     "execution_count": 30,
     "metadata": {},
     "output_type": "execute_result"
    }
   ],
   "source": [
    "round(4.5667, 2)"
   ]
  },
  {
   "cell_type": "markdown",
   "metadata": {},
   "source": [
    "15. Concate two strings together using variables and print out that new variable"
   ]
  },
  {
   "cell_type": "code",
   "execution_count": 38,
   "metadata": {},
   "outputs": [
    {
     "name": "stdout",
     "output_type": "stream",
     "text": [
      "hello there \n"
     ]
    }
   ],
   "source": [
    "first_str = \"hello\"\n",
    "second_str = \" there \"\n",
    "concate_str = first_str + second_str\n",
    "print(concate_str)"
   ]
  },
  {
   "cell_type": "markdown",
   "metadata": {},
   "source": [
    "16. Use the two different quotes in a string and print out the sentence"
   ]
  },
  {
   "cell_type": "code",
   "execution_count": 40,
   "metadata": {},
   "outputs": [
    {
     "name": "stdout",
     "output_type": "stream",
     "text": [
      "my height is 5'4, which is short\n"
     ]
    }
   ],
   "source": [
    "height = \"5'4\"\n",
    "shr = \"short\"\n",
    "print(f\"my height is {height}, which is {shr}\")"
   ]
  },
  {
   "cell_type": "markdown",
   "metadata": {},
   "source": [
    "17. Print out Hello World! 7 times each on a new line using only one line of code."
   ]
  },
  {
   "cell_type": "code",
   "execution_count": 32,
   "metadata": {},
   "outputs": [
    {
     "name": "stdout",
     "output_type": "stream",
     "text": [
      "hello world! hello world! hello world! hello world! hello world! hello world! hello world! \n"
     ]
    }
   ],
   "source": [
    "print(\"hello world! \" * 7)"
   ]
  },
  {
   "cell_type": "markdown",
   "metadata": {},
   "source": [
    "18. Print a block quote string. Next indent each line and run it again."
   ]
  },
  {
   "cell_type": "code",
   "execution_count": 1,
   "metadata": {},
   "outputs": [
    {
     "ename": "SyntaxError",
     "evalue": "EOL while scanning string literal (<ipython-input-1-2c3bcf7426ee>, line 4)",
     "output_type": "error",
     "traceback": [
      "\u001b[0;36m  File \u001b[0;32m\"<ipython-input-1-2c3bcf7426ee>\"\u001b[0;36m, line \u001b[0;32m4\u001b[0m\n\u001b[0;31m    \"\"\"\"\u001b[0m\n\u001b[0m        \n^\u001b[0m\n\u001b[0;31mSyntaxError\u001b[0m\u001b[0;31m:\u001b[0m EOL while scanning string literal\n"
     ]
    }
   ],
   "source": [
    "block_quote = \"\"\"\n",
    "\\t hello world! \n",
    "\\t hello world! \n",
    "\"\"\"\"\n",
    "\n",
    "print(block_quote )"
   ]
  },
  {
   "cell_type": "markdown",
   "metadata": {},
   "source": [
    "19. Ask for the person's favorite season and print out Your favorite season is __theAnswer__"
   ]
  },
  {
   "cell_type": "code",
   "execution_count": 44,
   "metadata": {},
   "outputs": [
    {
     "name": "stdout",
     "output_type": "stream",
     "text": [
      "What is your favorite season? spring\n",
      "your favorite season is spring\n"
     ]
    }
   ],
   "source": [
    "theAnswer = input(\"What is your favorite season? \")\n",
    "print(\"your favorite season is\", theAnswer)"
   ]
  },
  {
   "cell_type": "markdown",
   "metadata": {},
   "source": [
    "20. Convert \"657\" to an integer data type - confirm the convertion using print statement"
   ]
  },
  {
   "cell_type": "code",
   "execution_count": 47,
   "metadata": {},
   "outputs": [
    {
     "name": "stdout",
     "output_type": "stream",
     "text": [
      "<class 'int'>\n"
     ]
    }
   ],
   "source": [
    "string = \"657\"\n",
    "integer = int(string)\n",
    "print(type(integer))"
   ]
  },
  {
   "cell_type": "markdown",
   "metadata": {},
   "source": [
    "21. Enhance the Miles Per Gallon Program from the class lesson.  Get gas price per gallon and compute total gas cost and cost per mile. The output should look something like this:\n",
    "        \n",
    "        Enter miles driven:            150\n",
    "        Enter gallons of gas used:     15\n",
    "        Enter cost per gallon:         3\n",
    "        \n",
    "        Miles Per Gallon:              10.0\n",
    "        Total Gas Cost:                45.0\n",
    "        Cost per Mile:                 0.3"
   ]
  },
  {
   "cell_type": "code",
   "execution_count": 72,
   "metadata": {},
   "outputs": [
    {
     "name": "stdout",
     "output_type": "stream",
     "text": [
      "Enter miles driven 180\n",
      "Enter gallons used 22\n",
      "Enter cost per gallon 2.35\n",
      "\n",
      "Miles Per Gallon: 0.29\n",
      "Total Gas Cost: $51.7\n",
      "Cost per Mile: $8.18\n"
     ]
    }
   ],
   "source": [
    "milesdriven = float(input(\"Enter miles driven \"))\n",
    "gallons_used = float(input(\"Enter gallons used \"))\n",
    "cost_per_gallon = float(input(\"Enter cost per gallon \"))\n",
    "\n",
    "miles_per_gallon = milesdriven / gallons_used\n",
    "total_gas_cost = cost_per_gallon * gallons_used\n",
    "cost_per_mile = total_gas_cost / milesdriven\n",
    "\n",
    "miles_per_gallon1 = round(miles_per_gallon,2)\n",
    "total_gas_cost1 = round(total_gas_cost,2)\n",
    "cost_per_mile1 = round(cost_per_mile,2)\n",
    "\n",
    "print(\"\")\n",
    "\n",
    "print(f\"Miles Per Gallon: {cost_per_mile1}\") \n",
    "print(f\"Total Gas Cost: ${total_gas_cost1}\") \n",
    "print(f\"Cost per Mile: ${miles_per_gallon1}\") "
   ]
  },
  {
   "cell_type": "code",
   "execution_count": null,
   "metadata": {},
   "outputs": [],
   "source": []
  }
 ],
 "metadata": {
  "kernelspec": {
   "display_name": "Python 3",
   "language": "python",
   "name": "python3"
  },
  "language_info": {
   "codemirror_mode": {
    "name": "ipython",
    "version": 3
   },
   "file_extension": ".py",
   "mimetype": "text/x-python",
   "name": "python",
   "nbconvert_exporter": "python",
   "pygments_lexer": "ipython3",
   "version": "3.8.3"
  }
 },
 "nbformat": 4,
 "nbformat_minor": 4
}
